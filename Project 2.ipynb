{
 "cells": [
  {
   "cell_type": "markdown",
   "metadata": {},
   "source": [
    "# Project 2"
   ]
  },
  {
   "cell_type": "markdown",
   "metadata": {},
   "source": [
    "In this assignment you will use the Openweathermap Current Whether Data API to access weather information for cities in the UK. You need to sign up for an account with Openweathermap to get a Key. You will get 1,000 API calls per day for free. https://openweathermap.org/api"
   ]
  },
  {
   "cell_type": "markdown",
   "metadata": {},
   "source": [
    "#### Q1. Get a list of all cities in the UK (excluding Crown Dependencies and Overseas Territories).\n",
    "Hint: To get the name of all cities in UK, consider scraping this website https://www.gov.uk/government/publications/list-of-cities/list-of-cities-html."
   ]
  },
  {
   "cell_type": "code",
   "execution_count": 2,
   "metadata": {},
   "outputs": [
    {
     "name": "stdout",
     "output_type": "stream",
     "text": [
      "['Bath', 'Birmingham', 'Bradford', 'Brighton & Hove', 'Bristol', 'Cambridge', 'Canterbury', 'Carlisle', 'Chelmsford', 'Chester', 'Chichester', 'Colchester', 'Coventry', 'Derby', 'Doncaster', 'Durham', 'Ely', 'Exeter', 'Gloucester', 'Hereford', 'Kingston-upon-Hull', 'Lancaster', 'Leeds', 'Leicester', 'Lichfield', 'Lincoln', 'Liverpool', 'London', 'Manchester', 'Milton Keynes', 'Newcastle-upon-Tyne', 'Norwich', 'Nottingham', 'Oxford', 'Peterborough', 'Plymouth', 'Portsmouth', 'Preston', 'Ripon', 'Salford', 'Salisbury', 'Sheffield', 'Southampton', 'Southend-on-Sea', 'St Albans', 'Stoke on Trent', 'Sunderland', 'Truro', 'Wakefield', 'Wells', 'Westminster', 'Winchester', 'Wolverhampton', 'Worcester', 'York', 'Armagh', 'Bangor', 'Belfast', 'Lisburn', 'Londonderry', 'Newry', 'Aberdeen', 'Dundee', 'Dunfermline', 'Edinburgh', 'Glasgow', 'Inverness', 'Perth', 'Stirling', 'Bangor', 'Cardiff', 'Newport', 'St Asaph', 'St Davids', 'Swansea', 'Wrexham']\n"
     ]
    }
   ],
   "source": [
    "import requests\n",
    "from bs4 import BeautifulSoup\n",
    "import pandas as pd\n",
    "\n",
    "url = \"https://www.gov.uk/government/publications/list-of-cities/list-of-cities-html\"\n",
    "res = requests.get(url)\n",
    "soup = BeautifulSoup(res.content, 'html.parser')\n",
    "\n",
    "uk_cities = []\n",
    "\n",
    "# Flag to start adding cities in the \"United Kingdom\" section\n",
    "uk_section = False\n",
    "\n",
    "# Loop through all headers (h3, h4) and unordered lists (ul) to identify sections\n",
    "for header in soup.find_all(['h3', 'h4', 'ul']):\n",
    "    # Look for the \"United Kingdom\" section and subsequent sub-sections (England, Northern Ireland, Scotland, Wales)\n",
    "    if header.name == 'h3' and header.get_text(strip=True) == 'United Kingdom':\n",
    "        uk_section = True  # Start scraping cities inside the UK section\n",
    "    elif header.name == 'h4' and header.get_text(strip=True) in ['England', 'Northern Ireland', 'Scotland', 'Wales']:\n",
    "        # Scrape cities within each of these sub-sections\n",
    "        uk_section = True\n",
    "    elif header.name == 'ul' and uk_section:\n",
    "        # Process city names within the 'ul' tags\n",
    "        for li in header.find_all('li'):\n",
    "            city_name = li.get_text(strip=True).split('*')[0]  # Remove any \"*\" from city names\n",
    "            uk_cities.append(city_name)\n",
    "    elif header.name == 'h3' and header.get_text(strip=True) in ['Crown Dependencies', 'Overseas Territories']:\n",
    "        # Stop scraping once we hit Crown Dependencies or Overseas Territories\n",
    "        uk_section = False\n",
    "\n",
    "print(uk_cities)\n"
   ]
  },
  {
   "cell_type": "markdown",
   "metadata": {},
   "source": [
    "#### Q2. Use the Openweathermap Current Whether Data API to access the following information for each city: **main.temp, wind.speed, rain (1h) and Time of data calculation (dt)**. Use default units for these variables. Add the city name, temperature, wind, rain and dt information to a DataFrame as separate columns. If one of these attributes is missing, replace it with NONE.\n",
    "Hint: You may find it easier to create a dictionary with cities as keys and temperature, wind, rain and date as values first and then convert it into a DataFrame."
   ]
  },
  {
   "cell_type": "code",
   "execution_count": 3,
   "metadata": {},
   "outputs": [
    {
     "name": "stdout",
     "output_type": "stream",
     "text": [
      "               City  Temperature  Wind Speed Rain (1h)  Data Calculation Time\n",
      "0              Bath       280.85        1.86      NONE             1731099131\n",
      "1        Birmingham       280.17        2.06      NONE             1731098881\n",
      "2          Bradford       281.58        2.57      NONE             1731099119\n",
      "3   Brighton & Hove       280.91        0.45      NONE             1731099131\n",
      "4           Bristol       281.05        2.06      NONE             1731099006\n",
      "..              ...          ...         ...       ...                    ...\n",
      "69          Newport       281.24        3.51      NONE             1731098847\n",
      "70         St Asaph       280.94        0.45      NONE             1731099135\n",
      "71        St Davids       282.57        6.19      NONE             1731099135\n",
      "72          Swansea       282.31        4.47      NONE             1731099135\n",
      "73          Wrexham       280.39        2.06      NONE             1731098937\n",
      "\n",
      "[74 rows x 5 columns]\n"
     ]
    }
   ],
   "source": [
    "api_key = \"4a50b232f60d0cec98d2ea48601340e9\"\n",
    "\n",
    "weather_data = []\n",
    "\n",
    "# Get weather data\n",
    "for city in uk_cities:\n",
    "    if city == \"Bangor\":\n",
    "        continue    # Skip 'Bangor'\n",
    "    if city == \"Stoke on Trent\": #Stoke on Trent is simply Stoke on Openweathermap\n",
    "        query = f\"q=Stoke,gb\"\n",
    "    else:\n",
    "        query = f\"q={city},gb\"\n",
    "        \n",
    "    url = f'http://api.openweathermap.org/data/2.5/weather?{query}&APPID={api_key}'\n",
    "\n",
    "    # Send GET request to the API\n",
    "    res = requests.get(url)\n",
    "\n",
    "    # Process the data if request is successful\n",
    "    if res.status_code == 200:\n",
    "        data = res.json()\n",
    "\n",
    "        # Extract relevant information with default values for missing data\n",
    "        temp = data['main'].get('temp', 'NONE') \n",
    "        wind_speed = data['wind'].get('speed', 'NONE')\n",
    "        rain = data.get('rain', {}).get('1h', 'NONE')\n",
    "        dt = data.get('dt', 'NONE')\n",
    "\n",
    "        # Append the data to the list\n",
    "        weather_data.append({\n",
    "            'City': city,\n",
    "            'Temperature': temp,\n",
    "            'Wind Speed': wind_speed,\n",
    "            'Rain (1h)': rain,\n",
    "            'Data Calculation Time': dt\n",
    "        })\n",
    "    else:\n",
    "        print(f\"No data for {city}\")\n",
    "\n",
    "# Convert the list to a DataFrame\n",
    "weather = pd.DataFrame(weather_data)\n",
    "\n",
    "print(weather)\n"
   ]
  },
  {
   "cell_type": "markdown",
   "metadata": {},
   "source": [
    "#### Q3. The Time of data calculation (dt) is in Unix Timestamp format. Convert it to standard UTC (``dd/mm/yy @ HH:MM:SS``). Print out the updated DataFrame.\n",
    "Hint: You may use ``datetime.fromtimestamp`` to convert dt."
   ]
  },
  {
   "cell_type": "code",
   "execution_count": 4,
   "metadata": {},
   "outputs": [
    {
     "name": "stdout",
     "output_type": "stream",
     "text": [
      "               City  Temperature  Wind Speed Rain (1h) Data Calculation Time\n",
      "0              Bath       280.85        1.86      NONE   08/11/24 @ 20:52:11\n",
      "1        Birmingham       280.17        2.06      NONE   08/11/24 @ 20:48:01\n",
      "2          Bradford       281.58        2.57      NONE   08/11/24 @ 20:51:59\n",
      "3   Brighton & Hove       280.91        0.45      NONE   08/11/24 @ 20:52:11\n",
      "4           Bristol       281.05        2.06      NONE   08/11/24 @ 20:50:06\n",
      "..              ...          ...         ...       ...                   ...\n",
      "69          Newport       281.24        3.51      NONE   08/11/24 @ 20:47:27\n",
      "70         St Asaph       280.94        0.45      NONE   08/11/24 @ 20:52:15\n",
      "71        St Davids       282.57        6.19      NONE   08/11/24 @ 20:52:15\n",
      "72          Swansea       282.31        4.47      NONE   08/11/24 @ 20:52:15\n",
      "73          Wrexham       280.39        2.06      NONE   08/11/24 @ 20:48:57\n",
      "\n",
      "[74 rows x 5 columns]\n"
     ]
    }
   ],
   "source": [
    "from datetime import datetime\n",
    "\n",
    "# Convert the 'dt' column to standard UTC datetime\n",
    "weather['Data Calculation Time'] = weather['Data Calculation Time'].apply(\n",
    "    lambda x: datetime.fromtimestamp(x).strftime('%d/%m/%y @ %H:%M:%S') if x != 'NONE' else 'NONE'\n",
    ")\n",
    "\n",
    "print(weather)\n"
   ]
  }
 ],
 "metadata": {
  "kernelspec": {
   "display_name": "ST445",
   "language": "python",
   "name": "python3"
  },
  "language_info": {
   "codemirror_mode": {
    "name": "ipython",
    "version": 3
   },
   "file_extension": ".py",
   "mimetype": "text/x-python",
   "name": "python",
   "nbconvert_exporter": "python",
   "pygments_lexer": "ipython3",
   "version": "3.12.7"
  }
 },
 "nbformat": 4,
 "nbformat_minor": 2
}
